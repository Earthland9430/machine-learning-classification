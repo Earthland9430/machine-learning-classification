{
 "cells": [
  {
   "cell_type": "markdown",
   "metadata": {},
   "source": [
    "# Machine Learning Assignment 2\n",
    "Group Members:\n",
    "    Weizhuo Zhang()\n",
    "    Mingjie Shi(470193259)"
   ]
  },
  {
   "cell_type": "markdown",
   "metadata": {},
   "source": [
    "# 1.Import library"
   ]
  },
  {
   "cell_type": "code",
   "execution_count": 2,
   "metadata": {},
   "outputs": [],
   "source": [
    "import pandas as pd\n",
    "import numpy as np\n",
    "import matplotlib.pyplot as plt # use matlab to demonstrate\n",
    "import time\n",
    "from IPython.display import Markdown, display # Allows the use of display() for DataFrames\n",
    "from sklearn.model_selection import train_test_split #split the data\n",
    "from sklearn.metrics import roc_curve, auc  \n",
    "from sklearn import metrics\n",
    "\n",
    "from sklearn import svm\n",
    "from sklearn.linear_model import LogisticRegression\n",
    "from sklearn import tree\n",
    "from sklearn.model_selection import cross_val_score\n",
    "\n",
    "%  matplotlib inline"
   ]
  },
  {
   "cell_type": "markdown",
   "metadata": {},
   "source": [
    "# 2. import Data"
   ]
  },
  {
   "cell_type": "code",
   "execution_count": 3,
   "metadata": {
    "scrolled": true
   },
   "outputs": [
    {
     "data": {
      "text/html": [
       "<div>\n",
       "<style scoped>\n",
       "    .dataframe tbody tr th:only-of-type {\n",
       "        vertical-align: middle;\n",
       "    }\n",
       "\n",
       "    .dataframe tbody tr th {\n",
       "        vertical-align: top;\n",
       "    }\n",
       "\n",
       "    .dataframe thead th {\n",
       "        text-align: right;\n",
       "    }\n",
       "</style>\n",
       "<table border=\"1\" class=\"dataframe\">\n",
       "  <thead>\n",
       "    <tr style=\"text-align: right;\">\n",
       "      <th></th>\n",
       "      <th>age</th>\n",
       "      <th>workclass</th>\n",
       "      <th>fnlwgt</th>\n",
       "      <th>education</th>\n",
       "      <th>education-num</th>\n",
       "      <th>marital-status</th>\n",
       "      <th>occupation</th>\n",
       "      <th>relationship</th>\n",
       "      <th>race</th>\n",
       "      <th>sex</th>\n",
       "      <th>capital-gain</th>\n",
       "      <th>capital-loss</th>\n",
       "      <th>hours-per-week</th>\n",
       "      <th>native-country</th>\n",
       "      <th>income</th>\n",
       "    </tr>\n",
       "  </thead>\n",
       "  <tbody>\n",
       "    <tr>\n",
       "      <th>0</th>\n",
       "      <td>39</td>\n",
       "      <td>State-gov</td>\n",
       "      <td>77516</td>\n",
       "      <td>Bachelors</td>\n",
       "      <td>13</td>\n",
       "      <td>Never-married</td>\n",
       "      <td>Adm-clerical</td>\n",
       "      <td>Not-in-family</td>\n",
       "      <td>White</td>\n",
       "      <td>Male</td>\n",
       "      <td>2174</td>\n",
       "      <td>0</td>\n",
       "      <td>40</td>\n",
       "      <td>United-States</td>\n",
       "      <td>&lt;=50K</td>\n",
       "    </tr>\n",
       "    <tr>\n",
       "      <th>1</th>\n",
       "      <td>50</td>\n",
       "      <td>Self-emp-not-inc</td>\n",
       "      <td>83311</td>\n",
       "      <td>Bachelors</td>\n",
       "      <td>13</td>\n",
       "      <td>Married-civ-spouse</td>\n",
       "      <td>Exec-managerial</td>\n",
       "      <td>Husband</td>\n",
       "      <td>White</td>\n",
       "      <td>Male</td>\n",
       "      <td>0</td>\n",
       "      <td>0</td>\n",
       "      <td>13</td>\n",
       "      <td>United-States</td>\n",
       "      <td>&lt;=50K</td>\n",
       "    </tr>\n",
       "    <tr>\n",
       "      <th>2</th>\n",
       "      <td>38</td>\n",
       "      <td>Private</td>\n",
       "      <td>215646</td>\n",
       "      <td>HS-grad</td>\n",
       "      <td>9</td>\n",
       "      <td>Divorced</td>\n",
       "      <td>Handlers-cleaners</td>\n",
       "      <td>Not-in-family</td>\n",
       "      <td>White</td>\n",
       "      <td>Male</td>\n",
       "      <td>0</td>\n",
       "      <td>0</td>\n",
       "      <td>40</td>\n",
       "      <td>United-States</td>\n",
       "      <td>&lt;=50K</td>\n",
       "    </tr>\n",
       "    <tr>\n",
       "      <th>3</th>\n",
       "      <td>53</td>\n",
       "      <td>Private</td>\n",
       "      <td>234721</td>\n",
       "      <td>11th</td>\n",
       "      <td>7</td>\n",
       "      <td>Married-civ-spouse</td>\n",
       "      <td>Handlers-cleaners</td>\n",
       "      <td>Husband</td>\n",
       "      <td>Black</td>\n",
       "      <td>Male</td>\n",
       "      <td>0</td>\n",
       "      <td>0</td>\n",
       "      <td>40</td>\n",
       "      <td>United-States</td>\n",
       "      <td>&lt;=50K</td>\n",
       "    </tr>\n",
       "    <tr>\n",
       "      <th>4</th>\n",
       "      <td>28</td>\n",
       "      <td>Private</td>\n",
       "      <td>338409</td>\n",
       "      <td>Bachelors</td>\n",
       "      <td>13</td>\n",
       "      <td>Married-civ-spouse</td>\n",
       "      <td>Prof-specialty</td>\n",
       "      <td>Wife</td>\n",
       "      <td>Black</td>\n",
       "      <td>Female</td>\n",
       "      <td>0</td>\n",
       "      <td>0</td>\n",
       "      <td>40</td>\n",
       "      <td>Cuba</td>\n",
       "      <td>&lt;=50K</td>\n",
       "    </tr>\n",
       "  </tbody>\n",
       "</table>\n",
       "</div>"
      ],
      "text/plain": [
       "   age         workclass  fnlwgt  education  education-num  \\\n",
       "0   39         State-gov   77516  Bachelors             13   \n",
       "1   50  Self-emp-not-inc   83311  Bachelors             13   \n",
       "2   38           Private  215646    HS-grad              9   \n",
       "3   53           Private  234721       11th              7   \n",
       "4   28           Private  338409  Bachelors             13   \n",
       "\n",
       "       marital-status         occupation   relationship   race     sex  \\\n",
       "0       Never-married       Adm-clerical  Not-in-family  White    Male   \n",
       "1  Married-civ-spouse    Exec-managerial        Husband  White    Male   \n",
       "2            Divorced  Handlers-cleaners  Not-in-family  White    Male   \n",
       "3  Married-civ-spouse  Handlers-cleaners        Husband  Black    Male   \n",
       "4  Married-civ-spouse     Prof-specialty           Wife  Black  Female   \n",
       "\n",
       "   capital-gain  capital-loss  hours-per-week native-country income  \n",
       "0          2174             0              40  United-States  <=50K  \n",
       "1             0             0              13  United-States  <=50K  \n",
       "2             0             0              40  United-States  <=50K  \n",
       "3             0             0              40  United-States  <=50K  \n",
       "4             0             0              40           Cuba  <=50K  "
      ]
     },
     "metadata": {},
     "output_type": "display_data"
    },
    {
     "data": {
      "text/html": [
       "<div>\n",
       "<style scoped>\n",
       "    .dataframe tbody tr th:only-of-type {\n",
       "        vertical-align: middle;\n",
       "    }\n",
       "\n",
       "    .dataframe tbody tr th {\n",
       "        vertical-align: top;\n",
       "    }\n",
       "\n",
       "    .dataframe thead th {\n",
       "        text-align: right;\n",
       "    }\n",
       "</style>\n",
       "<table border=\"1\" class=\"dataframe\">\n",
       "  <thead>\n",
       "    <tr style=\"text-align: right;\">\n",
       "      <th></th>\n",
       "      <th>age</th>\n",
       "      <th>workclass</th>\n",
       "      <th>fnlwgt</th>\n",
       "      <th>education</th>\n",
       "      <th>education-num</th>\n",
       "      <th>marital-status</th>\n",
       "      <th>occupation</th>\n",
       "      <th>relationship</th>\n",
       "      <th>race</th>\n",
       "      <th>sex</th>\n",
       "      <th>capital-gain</th>\n",
       "      <th>capital-loss</th>\n",
       "      <th>hours-per-week</th>\n",
       "      <th>native-country</th>\n",
       "      <th>income</th>\n",
       "    </tr>\n",
       "  </thead>\n",
       "  <tbody>\n",
       "    <tr>\n",
       "      <th>0</th>\n",
       "      <td>25</td>\n",
       "      <td>Private</td>\n",
       "      <td>226802</td>\n",
       "      <td>11th</td>\n",
       "      <td>7</td>\n",
       "      <td>Never-married</td>\n",
       "      <td>Machine-op-inspct</td>\n",
       "      <td>Own-child</td>\n",
       "      <td>Black</td>\n",
       "      <td>Male</td>\n",
       "      <td>0</td>\n",
       "      <td>0</td>\n",
       "      <td>40</td>\n",
       "      <td>United-States</td>\n",
       "      <td>&lt;=50K</td>\n",
       "    </tr>\n",
       "    <tr>\n",
       "      <th>1</th>\n",
       "      <td>38</td>\n",
       "      <td>Private</td>\n",
       "      <td>89814</td>\n",
       "      <td>HS-grad</td>\n",
       "      <td>9</td>\n",
       "      <td>Married-civ-spouse</td>\n",
       "      <td>Farming-fishing</td>\n",
       "      <td>Husband</td>\n",
       "      <td>White</td>\n",
       "      <td>Male</td>\n",
       "      <td>0</td>\n",
       "      <td>0</td>\n",
       "      <td>50</td>\n",
       "      <td>United-States</td>\n",
       "      <td>&lt;=50K</td>\n",
       "    </tr>\n",
       "    <tr>\n",
       "      <th>2</th>\n",
       "      <td>28</td>\n",
       "      <td>Local-gov</td>\n",
       "      <td>336951</td>\n",
       "      <td>Assoc-acdm</td>\n",
       "      <td>12</td>\n",
       "      <td>Married-civ-spouse</td>\n",
       "      <td>Protective-serv</td>\n",
       "      <td>Husband</td>\n",
       "      <td>White</td>\n",
       "      <td>Male</td>\n",
       "      <td>0</td>\n",
       "      <td>0</td>\n",
       "      <td>40</td>\n",
       "      <td>United-States</td>\n",
       "      <td>&gt;50K</td>\n",
       "    </tr>\n",
       "    <tr>\n",
       "      <th>3</th>\n",
       "      <td>44</td>\n",
       "      <td>Private</td>\n",
       "      <td>160323</td>\n",
       "      <td>Some-college</td>\n",
       "      <td>10</td>\n",
       "      <td>Married-civ-spouse</td>\n",
       "      <td>Machine-op-inspct</td>\n",
       "      <td>Husband</td>\n",
       "      <td>Black</td>\n",
       "      <td>Male</td>\n",
       "      <td>7688</td>\n",
       "      <td>0</td>\n",
       "      <td>40</td>\n",
       "      <td>United-States</td>\n",
       "      <td>&gt;50K</td>\n",
       "    </tr>\n",
       "    <tr>\n",
       "      <th>4</th>\n",
       "      <td>18</td>\n",
       "      <td>?</td>\n",
       "      <td>103497</td>\n",
       "      <td>Some-college</td>\n",
       "      <td>10</td>\n",
       "      <td>Never-married</td>\n",
       "      <td>?</td>\n",
       "      <td>Own-child</td>\n",
       "      <td>White</td>\n",
       "      <td>Female</td>\n",
       "      <td>0</td>\n",
       "      <td>0</td>\n",
       "      <td>30</td>\n",
       "      <td>United-States</td>\n",
       "      <td>&lt;=50K</td>\n",
       "    </tr>\n",
       "  </tbody>\n",
       "</table>\n",
       "</div>"
      ],
      "text/plain": [
       "   age  workclass  fnlwgt     education  education-num      marital-status  \\\n",
       "0   25    Private  226802          11th              7       Never-married   \n",
       "1   38    Private   89814       HS-grad              9  Married-civ-spouse   \n",
       "2   28  Local-gov  336951    Assoc-acdm             12  Married-civ-spouse   \n",
       "3   44    Private  160323  Some-college             10  Married-civ-spouse   \n",
       "4   18          ?  103497  Some-college             10       Never-married   \n",
       "\n",
       "          occupation relationship   race     sex  capital-gain  capital-loss  \\\n",
       "0  Machine-op-inspct    Own-child  Black    Male             0             0   \n",
       "1    Farming-fishing      Husband  White    Male             0             0   \n",
       "2    Protective-serv      Husband  White    Male             0             0   \n",
       "3  Machine-op-inspct      Husband  Black    Male          7688             0   \n",
       "4                  ?    Own-child  White  Female             0             0   \n",
       "\n",
       "   hours-per-week native-country income  \n",
       "0              40  United-States  <=50K  \n",
       "1              50  United-States  <=50K  \n",
       "2              40  United-States   >50K  \n",
       "3              40  United-States   >50K  \n",
       "4              30  United-States  <=50K  "
      ]
     },
     "metadata": {},
     "output_type": "display_data"
    }
   ],
   "source": [
    "# reading data using panda\n",
    "column_names = ['age', 'workclass', 'fnlwgt', 'education', 'education-num',\n",
    "                'marital-status', 'occupation', 'relationship',\n",
    "                'race', 'sex', 'capital-gain', 'capital-loss', 'hours-per-week',\n",
    "                'native-country', 'income']\n",
    "\n",
    "Train = pd.read_csv('adult.data.txt', sep = \",\\s\", header = None, names = column_names, engine = 'python')\n",
    "Test = pd.read_csv('adult.test.txt', sep= \",\\s\", header = None, names = column_names, engine = 'python')\n",
    "\n",
    "display(Train.head(n=5))\n",
    "\n",
    "Test['income'].replace(regex=True,inplace=True,to_replace=r'\\.',value=r'') # Remove . in the income of Test\n",
    "display(Test.head(n=5))"
   ]
  },
  {
   "cell_type": "markdown",
   "metadata": {},
   "source": [
    "# 3. Operate the Data\n",
    "## 3.1 Check the missing value\n"
   ]
  },
  {
   "cell_type": "code",
   "execution_count": 4,
   "metadata": {},
   "outputs": [
    {
     "name": "stdout",
     "output_type": "stream",
     "text": [
      "32561\n",
      "workclass: 5.6386%\n",
      "occupation: 5.6601%\n",
      "native-country: 1.7905%\n",
      "16281\n",
      "workclass: 5.9149%\n",
      "occupation: 5.9333%\n",
      "native-country: 1.6829%\n"
     ]
    }
   ],
   "source": [
    "Train_Data = Train.shape[0]\n",
    "print(Train_Data)\n",
    "for i, j in zip(Train.columns, (Train.values.astype(str) == '?').sum(axis = 0)):\n",
    "    if j !=0: \n",
    "        percentage = float(j/Train_Data * 100)\n",
    "        print(str(i) + ': ' + \"{0:.4f}%\".format(percentage))\n",
    "        \n",
    "Test_Data = Test.shape[0]\n",
    "print(Test_Data)\n",
    "for i, j in zip(Test.columns, (Test.values.astype(str) == '?').sum(axis = 0)):\n",
    "    if j !=0: \n",
    "        percentage = float(j/Test_Data * 100)\n",
    "        print(str(i) + ': ' + \"{0:.4f}%\".format(percentage))"
   ]
  },
  {
   "cell_type": "code",
   "execution_count": 5,
   "metadata": {},
   "outputs": [
    {
     "name": "stdout",
     "output_type": "stream",
     "text": [
      "Train shape after removing the missing value:(30162, 15)\n"
     ]
    },
    {
     "data": {
      "text/html": [
       "<div>\n",
       "<style scoped>\n",
       "    .dataframe tbody tr th:only-of-type {\n",
       "        vertical-align: middle;\n",
       "    }\n",
       "\n",
       "    .dataframe tbody tr th {\n",
       "        vertical-align: top;\n",
       "    }\n",
       "\n",
       "    .dataframe thead th {\n",
       "        text-align: right;\n",
       "    }\n",
       "</style>\n",
       "<table border=\"1\" class=\"dataframe\">\n",
       "  <thead>\n",
       "    <tr style=\"text-align: right;\">\n",
       "      <th></th>\n",
       "      <th>age</th>\n",
       "      <th>fnlwgt</th>\n",
       "      <th>education-num</th>\n",
       "      <th>capital-gain</th>\n",
       "      <th>capital-loss</th>\n",
       "      <th>hours-per-week</th>\n",
       "    </tr>\n",
       "  </thead>\n",
       "  <tbody>\n",
       "    <tr>\n",
       "      <th>age</th>\n",
       "      <td>1.000000</td>\n",
       "      <td>-0.076511</td>\n",
       "      <td>0.043526</td>\n",
       "      <td>0.080154</td>\n",
       "      <td>0.060165</td>\n",
       "      <td>0.101599</td>\n",
       "    </tr>\n",
       "    <tr>\n",
       "      <th>fnlwgt</th>\n",
       "      <td>-0.076511</td>\n",
       "      <td>1.000000</td>\n",
       "      <td>-0.044992</td>\n",
       "      <td>0.000422</td>\n",
       "      <td>-0.009750</td>\n",
       "      <td>-0.022886</td>\n",
       "    </tr>\n",
       "    <tr>\n",
       "      <th>education-num</th>\n",
       "      <td>0.043526</td>\n",
       "      <td>-0.044992</td>\n",
       "      <td>1.000000</td>\n",
       "      <td>0.124416</td>\n",
       "      <td>0.079646</td>\n",
       "      <td>0.152522</td>\n",
       "    </tr>\n",
       "    <tr>\n",
       "      <th>capital-gain</th>\n",
       "      <td>0.080154</td>\n",
       "      <td>0.000422</td>\n",
       "      <td>0.124416</td>\n",
       "      <td>1.000000</td>\n",
       "      <td>-0.032229</td>\n",
       "      <td>0.080432</td>\n",
       "    </tr>\n",
       "    <tr>\n",
       "      <th>capital-loss</th>\n",
       "      <td>0.060165</td>\n",
       "      <td>-0.009750</td>\n",
       "      <td>0.079646</td>\n",
       "      <td>-0.032229</td>\n",
       "      <td>1.000000</td>\n",
       "      <td>0.052417</td>\n",
       "    </tr>\n",
       "    <tr>\n",
       "      <th>hours-per-week</th>\n",
       "      <td>0.101599</td>\n",
       "      <td>-0.022886</td>\n",
       "      <td>0.152522</td>\n",
       "      <td>0.080432</td>\n",
       "      <td>0.052417</td>\n",
       "      <td>1.000000</td>\n",
       "    </tr>\n",
       "  </tbody>\n",
       "</table>\n",
       "</div>"
      ],
      "text/plain": [
       "                     age    fnlwgt  education-num  capital-gain  capital-loss  \\\n",
       "age             1.000000 -0.076511       0.043526      0.080154      0.060165   \n",
       "fnlwgt         -0.076511  1.000000      -0.044992      0.000422     -0.009750   \n",
       "education-num   0.043526 -0.044992       1.000000      0.124416      0.079646   \n",
       "capital-gain    0.080154  0.000422       0.124416      1.000000     -0.032229   \n",
       "capital-loss    0.060165 -0.009750       0.079646     -0.032229      1.000000   \n",
       "hours-per-week  0.101599 -0.022886       0.152522      0.080432      0.052417   \n",
       "\n",
       "                hours-per-week  \n",
       "age                   0.101599  \n",
       "fnlwgt               -0.022886  \n",
       "education-num         0.152522  \n",
       "capital-gain          0.080432  \n",
       "capital-loss          0.052417  \n",
       "hours-per-week        1.000000  "
      ]
     },
     "metadata": {},
     "output_type": "display_data"
    },
    {
     "name": "stdout",
     "output_type": "stream",
     "text": [
      "Test shape after removing the missing value:(15060, 15)\n"
     ]
    },
    {
     "data": {
      "text/html": [
       "<div>\n",
       "<style scoped>\n",
       "    .dataframe tbody tr th:only-of-type {\n",
       "        vertical-align: middle;\n",
       "    }\n",
       "\n",
       "    .dataframe tbody tr th {\n",
       "        vertical-align: top;\n",
       "    }\n",
       "\n",
       "    .dataframe thead th {\n",
       "        text-align: right;\n",
       "    }\n",
       "</style>\n",
       "<table border=\"1\" class=\"dataframe\">\n",
       "  <thead>\n",
       "    <tr style=\"text-align: right;\">\n",
       "      <th></th>\n",
       "      <th>age</th>\n",
       "      <th>fnlwgt</th>\n",
       "      <th>education-num</th>\n",
       "      <th>capital-gain</th>\n",
       "      <th>capital-loss</th>\n",
       "      <th>hours-per-week</th>\n",
       "    </tr>\n",
       "  </thead>\n",
       "  <tbody>\n",
       "    <tr>\n",
       "      <th>age</th>\n",
       "      <td>1.000000</td>\n",
       "      <td>-0.074375</td>\n",
       "      <td>0.026123</td>\n",
       "      <td>0.078760</td>\n",
       "      <td>0.057745</td>\n",
       "      <td>0.102758</td>\n",
       "    </tr>\n",
       "    <tr>\n",
       "      <th>fnlwgt</th>\n",
       "      <td>-0.074375</td>\n",
       "      <td>1.000000</td>\n",
       "      <td>-0.036010</td>\n",
       "      <td>-0.012839</td>\n",
       "      <td>0.006421</td>\n",
       "      <td>-0.010306</td>\n",
       "    </tr>\n",
       "    <tr>\n",
       "      <th>education-num</th>\n",
       "      <td>0.026123</td>\n",
       "      <td>-0.036010</td>\n",
       "      <td>1.000000</td>\n",
       "      <td>0.131750</td>\n",
       "      <td>0.085817</td>\n",
       "      <td>0.133691</td>\n",
       "    </tr>\n",
       "    <tr>\n",
       "      <th>capital-gain</th>\n",
       "      <td>0.078760</td>\n",
       "      <td>-0.012839</td>\n",
       "      <td>0.131750</td>\n",
       "      <td>1.000000</td>\n",
       "      <td>-0.031876</td>\n",
       "      <td>0.090501</td>\n",
       "    </tr>\n",
       "    <tr>\n",
       "      <th>capital-loss</th>\n",
       "      <td>0.057745</td>\n",
       "      <td>0.006421</td>\n",
       "      <td>0.085817</td>\n",
       "      <td>-0.031876</td>\n",
       "      <td>1.000000</td>\n",
       "      <td>0.057712</td>\n",
       "    </tr>\n",
       "    <tr>\n",
       "      <th>hours-per-week</th>\n",
       "      <td>0.102758</td>\n",
       "      <td>-0.010306</td>\n",
       "      <td>0.133691</td>\n",
       "      <td>0.090501</td>\n",
       "      <td>0.057712</td>\n",
       "      <td>1.000000</td>\n",
       "    </tr>\n",
       "  </tbody>\n",
       "</table>\n",
       "</div>"
      ],
      "text/plain": [
       "                     age    fnlwgt  education-num  capital-gain  capital-loss  \\\n",
       "age             1.000000 -0.074375       0.026123      0.078760      0.057745   \n",
       "fnlwgt         -0.074375  1.000000      -0.036010     -0.012839      0.006421   \n",
       "education-num   0.026123 -0.036010       1.000000      0.131750      0.085817   \n",
       "capital-gain    0.078760 -0.012839       0.131750      1.000000     -0.031876   \n",
       "capital-loss    0.057745  0.006421       0.085817     -0.031876      1.000000   \n",
       "hours-per-week  0.102758 -0.010306       0.133691      0.090501      0.057712   \n",
       "\n",
       "                hours-per-week  \n",
       "age                   0.102758  \n",
       "fnlwgt               -0.010306  \n",
       "education-num         0.133691  \n",
       "capital-gain          0.090501  \n",
       "capital-loss          0.057712  \n",
       "hours-per-week        1.000000  "
      ]
     },
     "metadata": {},
     "output_type": "display_data"
    }
   ],
   "source": [
    "Train = Train.replace({'?': None})\n",
    "Train = Train.dropna(axis=0)\n",
    "print('Train shape after removing the missing value:' + str(Train.shape))\n",
    "display(Train.corr())\n",
    "\n",
    "Test = Test.replace({'?': None})\n",
    "Test = Test.dropna(axis=0)\n",
    "print('Test shape after removing the missing value:' + str(Test.shape))\n",
    "display(Test.corr())"
   ]
  },
  {
   "cell_type": "markdown",
   "metadata": {},
   "source": [
    "## 3.2 Check the occupancy rate"
   ]
  },
  {
   "cell_type": "code",
   "execution_count": 6,
   "metadata": {
    "scrolled": true
   },
   "outputs": [
    {
     "name": "stdout",
     "output_type": "stream",
     "text": [
      "<class 'pandas.core.frame.DataFrame'>\n",
      "RangeIndex: 45222 entries, 0 to 45221\n",
      "Data columns (total 15 columns):\n",
      "age               45222 non-null int64\n",
      "workclass         45222 non-null category\n",
      "fnlwgt            45222 non-null int64\n",
      "education         45222 non-null category\n",
      "education-num     45222 non-null int64\n",
      "marital-status    45222 non-null category\n",
      "occupation        45222 non-null category\n",
      "relationship      45222 non-null category\n",
      "race              45222 non-null category\n",
      "sex               45222 non-null category\n",
      "capital-gain      45222 non-null int64\n",
      "capital-loss      45222 non-null int64\n",
      "hours-per-week    45222 non-null int64\n",
      "native-country    45222 non-null category\n",
      "income            45222 non-null category\n",
      "dtypes: category(9), int64(6)\n",
      "memory usage: 2.5 MB\n",
      "None\n"
     ]
    }
   ],
   "source": [
    "Adult = pd.concat([Train, Test]) #Combine the two table together\n",
    "Adult.reset_index(inplace = True, drop = True) # using the column as the index, drop the index before.\n",
    "for num in set(Adult.columns) - set(Adult.describe().columns):\n",
    "    Adult[num] = Adult[num].astype('category')\n",
    "\n",
    "print(Adult.info())"
   ]
  },
  {
   "cell_type": "code",
   "execution_count": 7,
   "metadata": {},
   "outputs": [],
   "source": [
    "a = Adult.groupby(by = ['native-country'])\n",
    "a.size()\n",
    "Adult['native-country'] = Adult['native-country'].map(lambda x:1 if x == 'United-States' else 0)"
   ]
  },
  {
   "cell_type": "markdown",
   "metadata": {},
   "source": [
    "## 3.3 Data Situation & Feature"
   ]
  },
  {
   "cell_type": "code",
   "execution_count": 8,
   "metadata": {},
   "outputs": [
    {
     "name": "stdout",
     "output_type": "stream",
     "text": [
      "Total number of records: 45222\n",
      "Individuals making more than $50,000: 11208\n",
      "Individuals making at most $50,000: 34014\n",
      "Percentage of individuals making more than $50,000: 24.78%\n"
     ]
    },
    {
     "data": {
      "text/html": [
       "<div>\n",
       "<style scoped>\n",
       "    .dataframe tbody tr th:only-of-type {\n",
       "        vertical-align: middle;\n",
       "    }\n",
       "\n",
       "    .dataframe tbody tr th {\n",
       "        vertical-align: top;\n",
       "    }\n",
       "\n",
       "    .dataframe thead th {\n",
       "        text-align: right;\n",
       "    }\n",
       "</style>\n",
       "<table border=\"1\" class=\"dataframe\">\n",
       "  <thead>\n",
       "    <tr style=\"text-align: right;\">\n",
       "      <th></th>\n",
       "      <th>age</th>\n",
       "      <th>fnlwgt</th>\n",
       "      <th>education-num</th>\n",
       "      <th>capital-gain</th>\n",
       "      <th>capital-loss</th>\n",
       "      <th>hours-per-week</th>\n",
       "      <th>native-country</th>\n",
       "    </tr>\n",
       "  </thead>\n",
       "  <tbody>\n",
       "    <tr>\n",
       "      <th>count</th>\n",
       "      <td>45222.000000</td>\n",
       "      <td>4.522200e+04</td>\n",
       "      <td>45222.000000</td>\n",
       "      <td>45222.000000</td>\n",
       "      <td>45222.000000</td>\n",
       "      <td>45222.000000</td>\n",
       "      <td>45222.000000</td>\n",
       "    </tr>\n",
       "    <tr>\n",
       "      <th>mean</th>\n",
       "      <td>38.547941</td>\n",
       "      <td>1.897347e+05</td>\n",
       "      <td>10.118460</td>\n",
       "      <td>1101.430344</td>\n",
       "      <td>88.595418</td>\n",
       "      <td>40.938017</td>\n",
       "      <td>0.913095</td>\n",
       "    </tr>\n",
       "    <tr>\n",
       "      <th>std</th>\n",
       "      <td>13.217870</td>\n",
       "      <td>1.056392e+05</td>\n",
       "      <td>2.552881</td>\n",
       "      <td>7506.430084</td>\n",
       "      <td>404.956092</td>\n",
       "      <td>12.007508</td>\n",
       "      <td>0.281698</td>\n",
       "    </tr>\n",
       "    <tr>\n",
       "      <th>min</th>\n",
       "      <td>17.000000</td>\n",
       "      <td>1.349200e+04</td>\n",
       "      <td>1.000000</td>\n",
       "      <td>0.000000</td>\n",
       "      <td>0.000000</td>\n",
       "      <td>1.000000</td>\n",
       "      <td>0.000000</td>\n",
       "    </tr>\n",
       "    <tr>\n",
       "      <th>25%</th>\n",
       "      <td>28.000000</td>\n",
       "      <td>1.173882e+05</td>\n",
       "      <td>9.000000</td>\n",
       "      <td>0.000000</td>\n",
       "      <td>0.000000</td>\n",
       "      <td>40.000000</td>\n",
       "      <td>1.000000</td>\n",
       "    </tr>\n",
       "    <tr>\n",
       "      <th>50%</th>\n",
       "      <td>37.000000</td>\n",
       "      <td>1.783160e+05</td>\n",
       "      <td>10.000000</td>\n",
       "      <td>0.000000</td>\n",
       "      <td>0.000000</td>\n",
       "      <td>40.000000</td>\n",
       "      <td>1.000000</td>\n",
       "    </tr>\n",
       "    <tr>\n",
       "      <th>75%</th>\n",
       "      <td>47.000000</td>\n",
       "      <td>2.379260e+05</td>\n",
       "      <td>13.000000</td>\n",
       "      <td>0.000000</td>\n",
       "      <td>0.000000</td>\n",
       "      <td>45.000000</td>\n",
       "      <td>1.000000</td>\n",
       "    </tr>\n",
       "    <tr>\n",
       "      <th>max</th>\n",
       "      <td>90.000000</td>\n",
       "      <td>1.490400e+06</td>\n",
       "      <td>16.000000</td>\n",
       "      <td>99999.000000</td>\n",
       "      <td>4356.000000</td>\n",
       "      <td>99.000000</td>\n",
       "      <td>1.000000</td>\n",
       "    </tr>\n",
       "  </tbody>\n",
       "</table>\n",
       "</div>"
      ],
      "text/plain": [
       "                age        fnlwgt  education-num  capital-gain  capital-loss  \\\n",
       "count  45222.000000  4.522200e+04   45222.000000  45222.000000  45222.000000   \n",
       "mean      38.547941  1.897347e+05      10.118460   1101.430344     88.595418   \n",
       "std       13.217870  1.056392e+05       2.552881   7506.430084    404.956092   \n",
       "min       17.000000  1.349200e+04       1.000000      0.000000      0.000000   \n",
       "25%       28.000000  1.173882e+05       9.000000      0.000000      0.000000   \n",
       "50%       37.000000  1.783160e+05      10.000000      0.000000      0.000000   \n",
       "75%       47.000000  2.379260e+05      13.000000      0.000000      0.000000   \n",
       "max       90.000000  1.490400e+06      16.000000  99999.000000   4356.000000   \n",
       "\n",
       "       hours-per-week  native-country  \n",
       "count    45222.000000    45222.000000  \n",
       "mean        40.938017        0.913095  \n",
       "std         12.007508        0.281698  \n",
       "min          1.000000        0.000000  \n",
       "25%         40.000000        1.000000  \n",
       "50%         40.000000        1.000000  \n",
       "75%         45.000000        1.000000  \n",
       "max         99.000000        1.000000  "
      ]
     },
     "execution_count": 8,
     "metadata": {},
     "output_type": "execute_result"
    }
   ],
   "source": [
    "# TODO: Total number of records\n",
    "n_records = Adult.shape[0]\n",
    "\n",
    "# TODO: Number of records where individual's income is more than $50,000\n",
    "n_greater_50k = sum(Adult['income'] == '>50K')\n",
    "\n",
    "# TODO: Number of records where individual's income is at most $50,000\n",
    "n_at_most_50k = sum(Adult['income'] == '<=50K')\n",
    "\n",
    "# TODO: Percentage of individuals whose income is more than $50,000\n",
    "greater_percent = np.true_divide(n_greater_50k , n_records) * 100\n",
    "\n",
    "# Print the results\n",
    "print (\"Total number of records: {}\".format(n_records))\n",
    "print (\"Individuals making more than $50,000: {}\".format(n_greater_50k))\n",
    "print (\"Individuals making at most $50,000: {}\".format(n_at_most_50k))\n",
    "print (\"Percentage of individuals making more than $50,000: {:.2f}%\".format(greater_percent))\n",
    "Adult.describe()"
   ]
  },
  {
   "cell_type": "code",
   "execution_count": 9,
   "metadata": {},
   "outputs": [
    {
     "data": {
      "text/html": [
       "<div>\n",
       "<style scoped>\n",
       "    .dataframe tbody tr th:only-of-type {\n",
       "        vertical-align: middle;\n",
       "    }\n",
       "\n",
       "    .dataframe tbody tr th {\n",
       "        vertical-align: top;\n",
       "    }\n",
       "\n",
       "    .dataframe thead th {\n",
       "        text-align: right;\n",
       "    }\n",
       "</style>\n",
       "<table border=\"1\" class=\"dataframe\">\n",
       "  <thead>\n",
       "    <tr style=\"text-align: right;\">\n",
       "      <th></th>\n",
       "      <th>education-num</th>\n",
       "    </tr>\n",
       "    <tr>\n",
       "      <th>education</th>\n",
       "      <th></th>\n",
       "    </tr>\n",
       "  </thead>\n",
       "  <tbody>\n",
       "    <tr>\n",
       "      <th>Preschool</th>\n",
       "      <td>1</td>\n",
       "    </tr>\n",
       "    <tr>\n",
       "      <th>1st-4th</th>\n",
       "      <td>2</td>\n",
       "    </tr>\n",
       "    <tr>\n",
       "      <th>5th-6th</th>\n",
       "      <td>3</td>\n",
       "    </tr>\n",
       "    <tr>\n",
       "      <th>7th-8th</th>\n",
       "      <td>4</td>\n",
       "    </tr>\n",
       "    <tr>\n",
       "      <th>9th</th>\n",
       "      <td>5</td>\n",
       "    </tr>\n",
       "    <tr>\n",
       "      <th>10th</th>\n",
       "      <td>6</td>\n",
       "    </tr>\n",
       "    <tr>\n",
       "      <th>11th</th>\n",
       "      <td>7</td>\n",
       "    </tr>\n",
       "    <tr>\n",
       "      <th>12th</th>\n",
       "      <td>8</td>\n",
       "    </tr>\n",
       "    <tr>\n",
       "      <th>HS-grad</th>\n",
       "      <td>9</td>\n",
       "    </tr>\n",
       "    <tr>\n",
       "      <th>Some-college</th>\n",
       "      <td>10</td>\n",
       "    </tr>\n",
       "    <tr>\n",
       "      <th>Assoc-voc</th>\n",
       "      <td>11</td>\n",
       "    </tr>\n",
       "    <tr>\n",
       "      <th>Assoc-acdm</th>\n",
       "      <td>12</td>\n",
       "    </tr>\n",
       "    <tr>\n",
       "      <th>Bachelors</th>\n",
       "      <td>13</td>\n",
       "    </tr>\n",
       "    <tr>\n",
       "      <th>Masters</th>\n",
       "      <td>14</td>\n",
       "    </tr>\n",
       "    <tr>\n",
       "      <th>Prof-school</th>\n",
       "      <td>15</td>\n",
       "    </tr>\n",
       "    <tr>\n",
       "      <th>Doctorate</th>\n",
       "      <td>16</td>\n",
       "    </tr>\n",
       "  </tbody>\n",
       "</table>\n",
       "</div>"
      ],
      "text/plain": [
       "              education-num\n",
       "education                  \n",
       "Preschool                 1\n",
       "1st-4th                   2\n",
       "5th-6th                   3\n",
       "7th-8th                   4\n",
       "9th                       5\n",
       "10th                      6\n",
       "11th                      7\n",
       "12th                      8\n",
       "HS-grad                   9\n",
       "Some-college             10\n",
       "Assoc-voc                11\n",
       "Assoc-acdm               12\n",
       "Bachelors                13\n",
       "Masters                  14\n",
       "Prof-school              15\n",
       "Doctorate                16"
      ]
     },
     "execution_count": 9,
     "metadata": {},
     "output_type": "execute_result"
    }
   ],
   "source": [
    "#Pivot table Education and Education_num then sort Education_num from smallest to largest.\n",
    "education_Pivot = pd.pivot_table(Adult, index = 'education', values = 'education-num')\n",
    "education_Pivot.sort_values(by=['education-num'])"
   ]
  },
  {
   "cell_type": "code",
   "execution_count": 10,
   "metadata": {},
   "outputs": [
    {
     "name": "stdout",
     "output_type": "stream",
     "text": [
      "Data shape after removing education-num: (45222, 14)\n"
     ]
    }
   ],
   "source": [
    "#education could represent education-num. Thus, drop the education-num.\n",
    "Adult.drop('education-num', axis=1, inplace=True)\n",
    "print('Data shape after removing education-num: '+str(Adult.shape))"
   ]
  },
  {
   "cell_type": "markdown",
   "metadata": {},
   "source": [
    "## 3.4 Check Identify Data Feature"
   ]
  },
  {
   "cell_type": "code",
   "execution_count": 11,
   "metadata": {},
   "outputs": [
    {
     "data": {
      "text/plain": [
       "Text(0,0.5,'Proportion of population')"
      ]
     },
     "execution_count": 11,
     "metadata": {},
     "output_type": "execute_result"
    },
    {
     "data": {
      "image/png": "[encoded data removed]",
      "text/plain": [
       "<Figure size 360x216 with 1 Axes>"
      ]
     },
     "metadata": {},
     "output_type": "display_data"
    }
   ],
   "source": [
    "#gender\n",
    "sex = round(pd.crosstab(Adult.sex, Adult.income).div(pd.crosstab(Adult.sex, Adult.income).apply(sum,1),0),2)\n",
    "sex.sort_values(by = '>50K', inplace = True)\n",
    "\n",
    "ax = sex.plot(kind ='bar', title = 'Sex levels', figsize = (5,3))\n",
    "ax.set_xlabel('Sex')\n",
    "ax.set_ylabel('Proportion of population')"
   ]
  },
  {
   "cell_type": "code",
   "execution_count": 12,
   "metadata": {},
   "outputs": [
    {
     "data": {
      "text/plain": [
       "Text(0,0.5,'Proportion of population')"
      ]
     },
     "execution_count": 12,
     "metadata": {},
     "output_type": "execute_result"
    },
    {
     "data": {
      "image/png": "[encoded data removed]",
      "text/plain": [
       "<Figure size 432x288 with 1 Axes>"
      ]
     },
     "metadata": {},
     "output_type": "display_data"
    }
   ],
   "source": [
    "#Race\n",
    "race = round(pd.crosstab(Adult.race, Adult.income).div(pd.crosstab(Adult.race, Adult.income).apply(sum,1),0),2)\n",
    "race.sort_values(by = '>50K', inplace = True)\n",
    "\n",
    "ax = race.plot(kind ='bar', title = 'Race levels', figsize = (6,4))\n",
    "ax.set_xlabel('Race')\n",
    "ax.set_ylabel('Proportion of population')"
   ]
  },
  {
   "cell_type": "code",
   "execution_count": 13,
   "metadata": {},
   "outputs": [
    {
     "data": {
      "text/plain": [
       "Text(0,0.5,'Proportion of population')"
      ]
     },
     "execution_count": 13,
     "metadata": {},
     "output_type": "execute_result"
    },
    {
     "data": {
      "image/png": "[encoded data removed]",
      "text/plain": [
       "<Figure size 432x288 with 1 Axes>"
      ]
     },
     "metadata": {},
     "output_type": "display_data"
    }
   ],
   "source": [
    "#Classify Race\n",
    "Adult.replace(['Amer-Indian-Eskimo','Black','Other', \n",
    "                  'White','Asian-Pac-Islander'],\n",
    "                 ['Other_Race','Other_Race','Other_Race',\n",
    "                  'White & Asian-Pac-Islander','White & Asian-Pac-Islander'],\n",
    "                 inplace = True)\n",
    "#Race\n",
    "race = round(pd.crosstab(Adult.race, Adult.income).div(pd.crosstab(Adult.race, Adult.income).apply(sum,1),0),2)\n",
    "race.sort_values(by = '>50K', inplace = True)\n",
    "\n",
    "ax = race.plot(kind ='bar', title = 'Race levels', figsize = (6,4))\n",
    "ax.set_xlabel('Race')\n",
    "ax.set_ylabel('Proportion of population')"
   ]
  },
  {
   "cell_type": "code",
   "execution_count": 14,
   "metadata": {},
   "outputs": [
    {
     "data": {
      "text/plain": [
       "Text(0,0.5,'Proportion of population')"
      ]
     },
     "execution_count": 14,
     "metadata": {},
     "output_type": "execute_result"
    },
    {
     "data": {
      "image/png": "[encoded data removed]",
      "text/plain": [
       "<Figure size 648x432 with 1 Axes>"
      ]
     },
     "metadata": {},
     "output_type": "display_data"
    }
   ],
   "source": [
    "#marital-status\n",
    "marital_status = round(pd.crosstab(Adult['marital-status'], Adult.income).div(pd.crosstab(Adult['marital-status'], Adult.income).apply(sum,1),0),2)\n",
    "marital_status.sort_values(by = '>50K', inplace = True)\n",
    "\n",
    "ax = marital_status.plot(kind ='bar', title = 'marital-status levels', figsize = (9,6))\n",
    "ax.set_xlabel('marital-status')\n",
    "ax.set_ylabel('Proportion of population')"
   ]
  },
  {
   "cell_type": "code",
   "execution_count": 15,
   "metadata": {},
   "outputs": [
    {
     "data": {
      "text/plain": [
       "Text(0,0.5,'Proportion of population')"
      ]
     },
     "execution_count": 15,
     "metadata": {},
     "output_type": "execute_result"
    },
    {
     "data": {
      "image/png": "[encoded data removed]",
      "text/plain": [
       "<Figure size 432x288 with 1 Axes>"
      ]
     },
     "metadata": {},
     "output_type": "display_data"
    }
   ],
   "source": [
    "#From the martial-status, we could know that there's the difference between married and not married.\n",
    "\n",
    "Adult.replace(['Never-married','Divorced','Separated' , 'Widowed', \n",
    "                  'Married-spouse-absent','Married-AF-spouse','Married-civ-spouse'],\n",
    "                 ['not married','not married','not married','not married',\n",
    "                  'married','married','married'],\n",
    "                 inplace = True)\n",
    "\n",
    "#marital-status\n",
    "marital_status = round(pd.crosstab(Adult['marital-status'], Adult.income).div(pd.crosstab(Adult['marital-status'], Adult.income).apply(sum,1),0),2)\n",
    "marital_status.sort_values(by = '>50K', inplace = True)\n",
    "\n",
    "ax = marital_status.plot(kind ='bar', title = 'marital-status levels', figsize = (6,4))\n",
    "ax.set_xlabel('marital-status')\n",
    "ax.set_ylabel('Proportion of population')"
   ]
  },
  {
   "cell_type": "code",
   "execution_count": 16,
   "metadata": {},
   "outputs": [
    {
     "data": {
      "text/plain": [
       "Text(0,0.5,'Proportion of population')"
      ]
     },
     "execution_count": 16,
     "metadata": {},
     "output_type": "execute_result"
    },
    {
     "data": {
      "image/png": "[encoded data removed]",
      "text/plain": [
       "<Figure size 936x720 with 1 Axes>"
      ]
     },
     "metadata": {},
     "output_type": "display_data"
    }
   ],
   "source": [
    "#occupation\n",
    "occupation = round(pd.crosstab(Adult.occupation, Adult.income).div(pd.crosstab(Adult.occupation, Adult.income).apply(sum,1),0),2)\n",
    "occupation.sort_values(by = '>50K', inplace = True)\n",
    "\n",
    "ax = occupation.plot(kind ='bar', title = 'Occupation levels', figsize = (13,10))\n",
    "ax.set_xlabel('Occupation')\n",
    "ax.set_ylabel('Proportion of population')"
   ]
  },
  {
   "cell_type": "code",
   "execution_count": 17,
   "metadata": {},
   "outputs": [
    {
     "data": {
      "text/plain": [
       "Text(0,0.5,'Proportion of population')"
      ]
     },
     "execution_count": 17,
     "metadata": {},
     "output_type": "execute_result"
    },
    {
     "data": {
      "image/png": "[encoded data removed]",
      "text/plain": [
       "<Figure size 432x288 with 1 Axes>"
      ]
     },
     "metadata": {},
     "output_type": "display_data"
    }
   ],
   "source": [
    "#Classify the Occupation\n",
    "Adult.replace(['Priv-house-serv', 'Other-service', 'Handlers-cleaners', 'Farming-fishing', 'Machine-op-inspct','Adm-clerical',\n",
    "              'Transport-moving', 'Craft-repair', 'Sales', 'Tech-support', 'Armed-Forces','Protective-serv',\n",
    "              'Prof-specialty', 'Exec-managerial'],\n",
    "                 ['Low-income-Occupation','Low-income-Occupation','Low-income-Occupation','Low-income-Occupation','Low-income-Occupation','Low-income-Occupation',\n",
    "                  'Normal-income-Occupation','Normal-income-Occupation','Normal-income-Occupation','Normal-income-Occupation','Normal-income-Occupation','Normal-income-Occupation',\n",
    "                  'High-income-Occupation','High-income-Occupation'],\n",
    "                 inplace = True)\n",
    "\n",
    "#occupation\n",
    "occupation = round(pd.crosstab(Adult.occupation, Adult.income).div(pd.crosstab(Adult.occupation, Adult.income).apply(sum,1),0),2)\n",
    "occupation.sort_values(by = '>50K', inplace = True)\n",
    "\n",
    "ax = occupation.plot(kind ='bar', title = 'Occupation levels', figsize = (6,4))\n",
    "ax.set_xlabel('Occupation')\n",
    "ax.set_ylabel('Proportion of population')"
   ]
  },
  {
   "cell_type": "code",
   "execution_count": 18,
   "metadata": {},
   "outputs": [
    {
     "data": {
      "text/plain": [
       "Text(0,0.5,'Proportion of population')"
      ]
     },
     "execution_count": 18,
     "metadata": {},
     "output_type": "execute_result"
    },
    {
     "data": {
      "image/png": "[encoded data removed]",
      "text/plain": [
       "<Figure size 576x432 with 1 Axes>"
      ]
     },
     "metadata": {},
     "output_type": "display_data"
    }
   ],
   "source": [
    "#relationship\n",
    "relationship = round(pd.crosstab(Adult.relationship, Adult.income).div(pd.crosstab(Adult.relationship, Adult.income).apply(sum,1),0),2)\n",
    "relationship.sort_values(by = '>50K', inplace = True)\n",
    "\n",
    "ax = relationship.plot(kind ='bar', title = 'Relationship levels', figsize = (8,6))\n",
    "ax.set_xlabel('Relationship')\n",
    "ax.set_ylabel('Proportion of population')"
   ]
  },
  {
   "cell_type": "code",
   "execution_count": 19,
   "metadata": {},
   "outputs": [
    {
     "data": {
      "text/plain": [
       "Text(0,0.5,'Proportion of population')"
      ]
     },
     "execution_count": 19,
     "metadata": {},
     "output_type": "execute_result"
    },
    {
     "data": {
      "image/png": "[encoded data removed]",
      "text/plain": [
       "<Figure size 360x216 with 1 Axes>"
      ]
     },
     "metadata": {},
     "output_type": "display_data"
    }
   ],
   "source": [
    "#Classify the Relationship\n",
    "Adult.replace(['Own-child','Other-relative','Unmarried','Not-in-family', \n",
    "                  'Husband','Wife'],\n",
    "                 ['Others','Others','Others','Others',\n",
    "                  'Couple','Couple'],\n",
    "                 inplace = True)\n",
    "#relationship\n",
    "relationship = round(pd.crosstab(Adult.relationship, Adult.income).div(pd.crosstab(Adult.relationship, Adult.income).apply(sum,1),0),2)\n",
    "relationship.sort_values(by = '>50K', inplace = True)\n",
    "\n",
    "ax = relationship.plot(kind ='bar', title = 'Relationship levels', figsize = (5,3))\n",
    "ax.set_xlabel('Relationship')\n",
    "ax.set_ylabel('Proportion of population')"
   ]
  },
  {
   "cell_type": "code",
   "execution_count": 20,
   "metadata": {},
   "outputs": [
    {
     "data": {
      "text/plain": [
       "Text(0,0.5,'Proportion of population')"
      ]
     },
     "execution_count": 20,
     "metadata": {},
     "output_type": "execute_result"
    },
    {
     "data": {
      "image/png": "[encoded data removed]",
      "text/plain": [
       "<Figure size 864x648 with 1 Axes>"
      ]
     },
     "metadata": {},
     "output_type": "display_data"
    }
   ],
   "source": [
    "#education\n",
    "education = round(pd.crosstab(Adult.education, Adult.income).div(pd.crosstab(Adult.education, Adult.income).apply(sum,1),0),2)\n",
    "education.sort_values(by = '>50K', inplace = True)\n",
    "\n",
    "ax = education.plot(kind ='bar', title = 'Education Level', figsize = (12,9))\n",
    "ax.set_xlabel('Education level')\n",
    "ax.set_ylabel('Proportion of population')"
   ]
  },
  {
   "cell_type": "code",
   "execution_count": 21,
   "metadata": {},
   "outputs": [
    {
     "data": {
      "text/plain": [
       "Text(0,0.5,'Proportion of population')"
      ]
     },
     "execution_count": 21,
     "metadata": {},
     "output_type": "execute_result"
    },
    {
     "data": {
      "image/png": "[encoded data removed]",
      "text/plain": [
       "<Figure size 432x288 with 1 Axes>"
      ]
     },
     "metadata": {},
     "output_type": "display_data"
    }
   ],
   "source": [
    "#Classify the education\n",
    "Adult.replace(['Preschool','1st-4th','11th','5th-6th', '9th','7th-8th','10th','12th',\n",
    "               'HS-grad','Some-college','Assoc-acdm','Assoc-voc',\n",
    "               'Bachelors','Masters','Doctorate','Prof-school' ],\n",
    "                 ['Basic-Education','Basic-Education','Basic-Education','Basic-Education','Basic-Education','Basic-Education','Basic-Education','Basic-Education',\n",
    "                  'Secondary-Education','Secondary-Education','Secondary-Education','Secondary-Education',\n",
    "                  'Higher-Educatioin','Higher-Educatioin','Higher-Educatioin','Higher-Educatioin'],\n",
    "                 inplace = True)\n",
    "#education\n",
    "education = round(pd.crosstab(Adult.education, Adult.income).div(pd.crosstab(Adult.education, Adult.income).apply(sum,1),0),2)\n",
    "education.sort_values(by = '>50K', inplace = True)\n",
    "\n",
    "ax = education.plot(kind ='bar', title = 'Education Level', figsize = (6,4))\n",
    "ax.set_xlabel('Education level')\n",
    "ax.set_ylabel('Proportion of population')"
   ]
  },
  {
   "cell_type": "code",
   "execution_count": 22,
   "metadata": {},
   "outputs": [
    {
     "data": {
      "text/plain": [
       "Text(0,0.5,'Proportion of population')"
      ]
     },
     "execution_count": 22,
     "metadata": {},
     "output_type": "execute_result"
    },
    {
     "data": {
      "image/png": "[encoded data removed]",
      "text/plain": [
       "<Figure size 720x576 with 1 Axes>"
      ]
     },
     "metadata": {},
     "output_type": "display_data"
    }
   ],
   "source": [
    "#workclass\n",
    "workclass = round(pd.crosstab(Adult.workclass, Adult.income).div(pd.crosstab(Adult.workclass, Adult.income).apply(sum,1),0),2)\n",
    "workclass.sort_values(by = '>50K', inplace = True)\n",
    "\n",
    "ax = workclass.plot(kind ='bar', title = 'Workclass levels', figsize = (10,8))\n",
    "ax.set_xlabel('Workclass')\n",
    "ax.set_ylabel('Proportion of population')"
   ]
  },
  {
   "cell_type": "code",
   "execution_count": 23,
   "metadata": {},
   "outputs": [
    {
     "data": {
      "text/plain": [
       "Text(0,0.5,'Proportion of population')"
      ]
     },
     "execution_count": 23,
     "metadata": {},
     "output_type": "execute_result"
    },
    {
     "data": {
      "image/png": "[encoded data removed]",
      "text/plain": [
       "<Figure size 720x576 with 1 Axes>"
      ]
     },
     "metadata": {},
     "output_type": "display_data"
    }
   ],
   "source": [
    "Adult.replace(['Without-pay', 'Private', 'State-gov', 'Local-gov', 'Federal-gov',\n",
    "               'Self-emp-not-inc','Self-emp-inc' ],\n",
    "                 ['NeverWorked','Private','gov','gov','gov','self-emp','self-emp'],\n",
    "                 inplace = True)\n",
    "workclass = round(pd.crosstab(Adult.workclass, Adult.income).div(pd.crosstab(Adult.workclass, Adult.income).apply(sum,1),0),2)\n",
    "workclass.sort_values(by = '>50K', inplace = True)\n",
    "\n",
    "ax = workclass.plot(kind ='bar', title = 'Workclass levels', figsize = (10,8))\n",
    "ax.set_xlabel('Workclass')\n",
    "ax.set_ylabel('Proportion of population')"
   ]
  },
  {
   "cell_type": "markdown",
   "metadata": {},
   "source": [
    "# 4.Normalize the Data"
   ]
  },
  {
   "cell_type": "markdown",
   "metadata": {},
   "source": [
    "## 4.1 Handle the Data"
   ]
  },
  {
   "cell_type": "code",
   "execution_count": 24,
   "metadata": {},
   "outputs": [],
   "source": [
    "# Select numerical data and standardised them\n",
    "numbers = ['age', 'fnlwgt', 'capital-gain','capital-loss','hours-per-week']\n",
    "Adult[numbers] = Adult[numbers].apply(lambda x: (x-np.mean(x))/np.std(x))\n",
    "\n",
    "# For categorical data only contains two categories, use label-encode rather than dummy\n",
    "# to reduce the feature number and make it easier for later processing\n",
    "categories =['marital-status', 'sex', 'relationship','race','native-country','income'] \n",
    "for i in categories:\n",
    "    dummy_mapping = {label:idx for idx, label in enumerate(np.unique(Adult[i]))}\n",
    "    Adult[i] = Adult[i].map(dummy_mapping)\n",
    "    \n",
    "# Get cols that need to be converted to dummies\n",
    "cols_dummy = ['workclass','education','occupation']\n",
    "\n",
    "cols_keep = ['age', 'fnlwgt','marital-status', 'sex','relationship','race',\n",
    "             'capital-gain','capital-loss','hours-per-week','income','native-country']\n",
    "\n",
    "# Change to dummies\n",
    "dummy_features = pd.get_dummies(Adult[cols_dummy])\n",
    "\n",
    "#print(dummy_features)\n",
    "# Concat dummy variables with columns kept\n",
    "Adult = pd.concat([Adult[cols_keep],dummy_features],axis=1)"
   ]
  },
  {
   "cell_type": "code",
   "execution_count": 25,
   "metadata": {},
   "outputs": [
    {
     "name": "stdout",
     "output_type": "stream",
     "text": [
      "Data set shape after preprocessing: (45222, 21)\n"
     ]
    },
    {
     "data": {
      "text/html": [
       "<div>\n",
       "<style scoped>\n",
       "    .dataframe tbody tr th:only-of-type {\n",
       "        vertical-align: middle;\n",
       "    }\n",
       "\n",
       "    .dataframe tbody tr th {\n",
       "        vertical-align: top;\n",
       "    }\n",
       "\n",
       "    .dataframe thead th {\n",
       "        text-align: right;\n",
       "    }\n",
       "</style>\n",
       "<table border=\"1\" class=\"dataframe\">\n",
       "  <thead>\n",
       "    <tr style=\"text-align: right;\">\n",
       "      <th></th>\n",
       "      <th>age</th>\n",
       "      <th>fnlwgt</th>\n",
       "      <th>marital-status</th>\n",
       "      <th>sex</th>\n",
       "      <th>relationship</th>\n",
       "      <th>race</th>\n",
       "      <th>capital-gain</th>\n",
       "      <th>capital-loss</th>\n",
       "      <th>hours-per-week</th>\n",
       "      <th>income</th>\n",
       "      <th>...</th>\n",
       "      <th>workclass_NeverWorked</th>\n",
       "      <th>workclass_Private</th>\n",
       "      <th>workclass_gov</th>\n",
       "      <th>workclass_self-emp</th>\n",
       "      <th>education_Basic-Education</th>\n",
       "      <th>education_Higher-Educatioin</th>\n",
       "      <th>education_Secondary-Education</th>\n",
       "      <th>occupation_High-income-Occupation</th>\n",
       "      <th>occupation_Low-income-Occupation</th>\n",
       "      <th>occupation_Normal-income-Occupation</th>\n",
       "    </tr>\n",
       "  </thead>\n",
       "  <tbody>\n",
       "    <tr>\n",
       "      <th>0</th>\n",
       "      <td>0.034201</td>\n",
       "      <td>-1.062295</td>\n",
       "      <td>1</td>\n",
       "      <td>1</td>\n",
       "      <td>1</td>\n",
       "      <td>1</td>\n",
       "      <td>0.142888</td>\n",
       "      <td>-0.21878</td>\n",
       "      <td>-0.078120</td>\n",
       "      <td>0</td>\n",
       "      <td>...</td>\n",
       "      <td>0</td>\n",
       "      <td>0</td>\n",
       "      <td>1</td>\n",
       "      <td>0</td>\n",
       "      <td>0</td>\n",
       "      <td>1</td>\n",
       "      <td>0</td>\n",
       "      <td>0</td>\n",
       "      <td>1</td>\n",
       "      <td>0</td>\n",
       "    </tr>\n",
       "    <tr>\n",
       "      <th>1</th>\n",
       "      <td>0.866417</td>\n",
       "      <td>-1.007438</td>\n",
       "      <td>0</td>\n",
       "      <td>1</td>\n",
       "      <td>0</td>\n",
       "      <td>1</td>\n",
       "      <td>-0.146733</td>\n",
       "      <td>-0.21878</td>\n",
       "      <td>-2.326738</td>\n",
       "      <td>0</td>\n",
       "      <td>...</td>\n",
       "      <td>0</td>\n",
       "      <td>0</td>\n",
       "      <td>0</td>\n",
       "      <td>1</td>\n",
       "      <td>0</td>\n",
       "      <td>1</td>\n",
       "      <td>0</td>\n",
       "      <td>1</td>\n",
       "      <td>0</td>\n",
       "      <td>0</td>\n",
       "    </tr>\n",
       "    <tr>\n",
       "      <th>2</th>\n",
       "      <td>-0.041455</td>\n",
       "      <td>0.245284</td>\n",
       "      <td>1</td>\n",
       "      <td>1</td>\n",
       "      <td>1</td>\n",
       "      <td>1</td>\n",
       "      <td>-0.146733</td>\n",
       "      <td>-0.21878</td>\n",
       "      <td>-0.078120</td>\n",
       "      <td>0</td>\n",
       "      <td>...</td>\n",
       "      <td>0</td>\n",
       "      <td>1</td>\n",
       "      <td>0</td>\n",
       "      <td>0</td>\n",
       "      <td>0</td>\n",
       "      <td>0</td>\n",
       "      <td>1</td>\n",
       "      <td>0</td>\n",
       "      <td>1</td>\n",
       "      <td>0</td>\n",
       "    </tr>\n",
       "    <tr>\n",
       "      <th>3</th>\n",
       "      <td>1.093385</td>\n",
       "      <td>0.425853</td>\n",
       "      <td>0</td>\n",
       "      <td>1</td>\n",
       "      <td>0</td>\n",
       "      <td>0</td>\n",
       "      <td>-0.146733</td>\n",
       "      <td>-0.21878</td>\n",
       "      <td>-0.078120</td>\n",
       "      <td>0</td>\n",
       "      <td>...</td>\n",
       "      <td>0</td>\n",
       "      <td>1</td>\n",
       "      <td>0</td>\n",
       "      <td>0</td>\n",
       "      <td>1</td>\n",
       "      <td>0</td>\n",
       "      <td>0</td>\n",
       "      <td>0</td>\n",
       "      <td>1</td>\n",
       "      <td>0</td>\n",
       "    </tr>\n",
       "    <tr>\n",
       "      <th>4</th>\n",
       "      <td>-0.798015</td>\n",
       "      <td>1.407393</td>\n",
       "      <td>0</td>\n",
       "      <td>0</td>\n",
       "      <td>0</td>\n",
       "      <td>0</td>\n",
       "      <td>-0.146733</td>\n",
       "      <td>-0.21878</td>\n",
       "      <td>-0.078120</td>\n",
       "      <td>0</td>\n",
       "      <td>...</td>\n",
       "      <td>0</td>\n",
       "      <td>1</td>\n",
       "      <td>0</td>\n",
       "      <td>0</td>\n",
       "      <td>0</td>\n",
       "      <td>1</td>\n",
       "      <td>0</td>\n",
       "      <td>1</td>\n",
       "      <td>0</td>\n",
       "      <td>0</td>\n",
       "    </tr>\n",
       "    <tr>\n",
       "      <th>5</th>\n",
       "      <td>-0.117111</td>\n",
       "      <td>0.897852</td>\n",
       "      <td>0</td>\n",
       "      <td>0</td>\n",
       "      <td>0</td>\n",
       "      <td>1</td>\n",
       "      <td>-0.146733</td>\n",
       "      <td>-0.21878</td>\n",
       "      <td>-0.078120</td>\n",
       "      <td>0</td>\n",
       "      <td>...</td>\n",
       "      <td>0</td>\n",
       "      <td>1</td>\n",
       "      <td>0</td>\n",
       "      <td>0</td>\n",
       "      <td>0</td>\n",
       "      <td>1</td>\n",
       "      <td>0</td>\n",
       "      <td>1</td>\n",
       "      <td>0</td>\n",
       "      <td>0</td>\n",
       "    </tr>\n",
       "    <tr>\n",
       "      <th>6</th>\n",
       "      <td>0.790761</td>\n",
       "      <td>-0.279707</td>\n",
       "      <td>0</td>\n",
       "      <td>0</td>\n",
       "      <td>1</td>\n",
       "      <td>0</td>\n",
       "      <td>-0.146733</td>\n",
       "      <td>-0.21878</td>\n",
       "      <td>-2.076892</td>\n",
       "      <td>0</td>\n",
       "      <td>...</td>\n",
       "      <td>0</td>\n",
       "      <td>1</td>\n",
       "      <td>0</td>\n",
       "      <td>0</td>\n",
       "      <td>1</td>\n",
       "      <td>0</td>\n",
       "      <td>0</td>\n",
       "      <td>0</td>\n",
       "      <td>1</td>\n",
       "      <td>0</td>\n",
       "    </tr>\n",
       "    <tr>\n",
       "      <th>7</th>\n",
       "      <td>1.017729</td>\n",
       "      <td>0.188448</td>\n",
       "      <td>0</td>\n",
       "      <td>1</td>\n",
       "      <td>0</td>\n",
       "      <td>1</td>\n",
       "      <td>-0.146733</td>\n",
       "      <td>-0.21878</td>\n",
       "      <td>0.338291</td>\n",
       "      <td>1</td>\n",
       "      <td>...</td>\n",
       "      <td>0</td>\n",
       "      <td>0</td>\n",
       "      <td>0</td>\n",
       "      <td>1</td>\n",
       "      <td>0</td>\n",
       "      <td>0</td>\n",
       "      <td>1</td>\n",
       "      <td>1</td>\n",
       "      <td>0</td>\n",
       "      <td>0</td>\n",
       "    </tr>\n",
       "    <tr>\n",
       "      <th>8</th>\n",
       "      <td>-0.571047</td>\n",
       "      <td>-1.362708</td>\n",
       "      <td>1</td>\n",
       "      <td>0</td>\n",
       "      <td>1</td>\n",
       "      <td>1</td>\n",
       "      <td>1.729546</td>\n",
       "      <td>-0.21878</td>\n",
       "      <td>0.754701</td>\n",
       "      <td>1</td>\n",
       "      <td>...</td>\n",
       "      <td>0</td>\n",
       "      <td>1</td>\n",
       "      <td>0</td>\n",
       "      <td>0</td>\n",
       "      <td>0</td>\n",
       "      <td>1</td>\n",
       "      <td>0</td>\n",
       "      <td>1</td>\n",
       "      <td>0</td>\n",
       "      <td>0</td>\n",
       "    </tr>\n",
       "    <tr>\n",
       "      <th>9</th>\n",
       "      <td>0.261169</td>\n",
       "      <td>-0.286693</td>\n",
       "      <td>0</td>\n",
       "      <td>1</td>\n",
       "      <td>0</td>\n",
       "      <td>1</td>\n",
       "      <td>0.543083</td>\n",
       "      <td>-0.21878</td>\n",
       "      <td>-0.078120</td>\n",
       "      <td>1</td>\n",
       "      <td>...</td>\n",
       "      <td>0</td>\n",
       "      <td>1</td>\n",
       "      <td>0</td>\n",
       "      <td>0</td>\n",
       "      <td>0</td>\n",
       "      <td>1</td>\n",
       "      <td>0</td>\n",
       "      <td>1</td>\n",
       "      <td>0</td>\n",
       "      <td>0</td>\n",
       "    </tr>\n",
       "  </tbody>\n",
       "</table>\n",
       "<p>10 rows × 21 columns</p>\n",
       "</div>"
      ],
      "text/plain": [
       "        age    fnlwgt  marital-status  sex  relationship  race  capital-gain  \\\n",
       "0  0.034201 -1.062295               1    1             1     1      0.142888   \n",
       "1  0.866417 -1.007438               0    1             0     1     -0.146733   \n",
       "2 -0.041455  0.245284               1    1             1     1     -0.146733   \n",
       "3  1.093385  0.425853               0    1             0     0     -0.146733   \n",
       "4 -0.798015  1.407393               0    0             0     0     -0.146733   \n",
       "5 -0.117111  0.897852               0    0             0     1     -0.146733   \n",
       "6  0.790761 -0.279707               0    0             1     0     -0.146733   \n",
       "7  1.017729  0.188448               0    1             0     1     -0.146733   \n",
       "8 -0.571047 -1.362708               1    0             1     1      1.729546   \n",
       "9  0.261169 -0.286693               0    1             0     1      0.543083   \n",
       "\n",
       "   capital-loss  hours-per-week  income                 ...                   \\\n",
       "0      -0.21878       -0.078120       0                 ...                    \n",
       "1      -0.21878       -2.326738       0                 ...                    \n",
       "2      -0.21878       -0.078120       0                 ...                    \n",
       "3      -0.21878       -0.078120       0                 ...                    \n",
       "4      -0.21878       -0.078120       0                 ...                    \n",
       "5      -0.21878       -0.078120       0                 ...                    \n",
       "6      -0.21878       -2.076892       0                 ...                    \n",
       "7      -0.21878        0.338291       1                 ...                    \n",
       "8      -0.21878        0.754701       1                 ...                    \n",
       "9      -0.21878       -0.078120       1                 ...                    \n",
       "\n",
       "   workclass_NeverWorked  workclass_Private  workclass_gov  \\\n",
       "0                      0                  0              1   \n",
       "1                      0                  0              0   \n",
       "2                      0                  1              0   \n",
       "3                      0                  1              0   \n",
       "4                      0                  1              0   \n",
       "5                      0                  1              0   \n",
       "6                      0                  1              0   \n",
       "7                      0                  0              0   \n",
       "8                      0                  1              0   \n",
       "9                      0                  1              0   \n",
       "\n",
       "   workclass_self-emp  education_Basic-Education  education_Higher-Educatioin  \\\n",
       "0                   0                          0                            1   \n",
       "1                   1                          0                            1   \n",
       "2                   0                          0                            0   \n",
       "3                   0                          1                            0   \n",
       "4                   0                          0                            1   \n",
       "5                   0                          0                            1   \n",
       "6                   0                          1                            0   \n",
       "7                   1                          0                            0   \n",
       "8                   0                          0                            1   \n",
       "9                   0                          0                            1   \n",
       "\n",
       "   education_Secondary-Education  occupation_High-income-Occupation  \\\n",
       "0                              0                                  0   \n",
       "1                              0                                  1   \n",
       "2                              1                                  0   \n",
       "3                              0                                  0   \n",
       "4                              0                                  1   \n",
       "5                              0                                  1   \n",
       "6                              0                                  0   \n",
       "7                              1                                  1   \n",
       "8                              0                                  1   \n",
       "9                              0                                  1   \n",
       "\n",
       "   occupation_Low-income-Occupation  occupation_Normal-income-Occupation  \n",
       "0                                 1                                    0  \n",
       "1                                 0                                    0  \n",
       "2                                 1                                    0  \n",
       "3                                 1                                    0  \n",
       "4                                 0                                    0  \n",
       "5                                 0                                    0  \n",
       "6                                 1                                    0  \n",
       "7                                 0                                    0  \n",
       "8                                 0                                    0  \n",
       "9                                 0                                    0  \n",
       "\n",
       "[10 rows x 21 columns]"
      ]
     },
     "execution_count": 25,
     "metadata": {},
     "output_type": "execute_result"
    }
   ],
   "source": [
    "print('Data set shape after preprocessing: ' + str(Adult.shape))\n",
    "Adult.head(n=10)"
   ]
  },
  {
   "cell_type": "code",
   "execution_count": 26,
   "metadata": {},
   "outputs": [
    {
     "name": "stdout",
     "output_type": "stream",
     "text": [
      "Train_data shape: (24129, 20)\n",
      "Exam_data shape: (6033, 20)\n",
      "Train_label shape: (24129,)\n",
      "Exam_label shape: (6033,)\n",
      "Test_data shape: (15060, 20)\n",
      "Test_label shape: (15060,)\n"
     ]
    }
   ],
   "source": [
    "# Data Prep\n",
    "Adult_data = Adult.drop(columns = ['income'])\n",
    "Adult_label = Adult.income\n",
    "\n",
    "arr_adult = np.array(Adult_data)\n",
    "# Since we combine train and test before for easy pre-processing\n",
    "# Now we want to seperate them \n",
    "\n",
    "# Get the number of train data\n",
    "n = Train.shape[0]\n",
    "\n",
    "# Use stratified sampling\n",
    "Train_data, Exam_data, Train_label, Exam_label = train_test_split(arr_adult[:n,:], \n",
    "                                                      Adult_label[:n], \n",
    "                                                      test_size=0.20, \n",
    "                                                      stratify=Adult_label[:n], \n",
    "                                                      random_state=1)   \n",
    "# Used for tunned and fully-trained model \n",
    "# Do not use for train and validate \n",
    "print('Train_data shape: '+str(Train_data.shape))\n",
    "print('Exam_data shape: '+str(Exam_data.shape))\n",
    "print('Train_label shape: '+str(Train_label.shape))\n",
    "print('Exam_label shape: '+str(Exam_label.shape))\n",
    "\n",
    "Test_data = arr_adult[n:,:]\n",
    "Test_label = Adult_label[n:]\n",
    "\n",
    "print('Test_data shape: '+str(Test_data.shape))\n",
    "print('Test_label shape: '+str(Test_label.shape))\n"
   ]
  },
  {
   "cell_type": "markdown",
   "metadata": {},
   "source": [
    "## 4.2 Define the Evaluation model "
   ]
  },
  {
   "cell_type": "code",
   "execution_count": 27,
   "metadata": {},
   "outputs": [],
   "source": [
    "def model_eval(actual, pred):\n",
    "    \n",
    "    confusion = pd.crosstab(actual, pred, rownames=['Actual'], colnames=['Predicted'])\n",
    "    TP = confusion.loc[1,1]\n",
    "    TN = confusion.loc[0,0]\n",
    "    FP = confusion.loc[0,1]\n",
    "    FN = confusion.loc[1,0]\n",
    "    print(confusion)\n",
    "\n",
    "    accuracy = ((TP+TN))/(TP+FN+FP+TN)\n",
    "    precision = (TP)/(TP+FP)\n",
    "    recall = (TP)/(TP+FN)\n",
    "    f_measure = (2*recall*precision)/(recall+precision)\n",
    "    sensitivity = TP / (TP + FN)\n",
    "    specificity = TN / (TN + FP)\n",
    "    error_rate = 1 - accuracy\n",
    "    \n",
    "    out = {}\n",
    "    out['accuracy'] =  accuracy\n",
    "    out['precision'] = precision\n",
    "    out['recall'] = recall\n",
    "    out['f_measure'] = f_measure\n",
    "    out['sensitivity'] = sensitivity\n",
    "    out['specificity'] = specificity\n",
    "    out['error_rate'] = error_rate\n",
    "    \n",
    "    return out\n"
   ]
  },
  {
   "cell_type": "markdown",
   "metadata": {},
   "source": [
    "# 5. Model Development"
   ]
  },
  {
   "cell_type": "markdown",
   "metadata": {},
   "source": [
    "## 5.1 Logistic Regression"
   ]
  },
  {
   "cell_type": "code",
   "execution_count": 28,
   "metadata": {},
   "outputs": [
    {
     "name": "stdout",
     "output_type": "stream",
     "text": [
      "Predicted     0    1\n",
      "Actual              \n",
      "0          4237  294\n",
      "1           647  855\n",
      "Logistic Regression : 84.40 percent.\n"
     ]
    },
    {
     "data": {
      "text/html": [
       "<div>\n",
       "<style scoped>\n",
       "    .dataframe tbody tr th:only-of-type {\n",
       "        vertical-align: middle;\n",
       "    }\n",
       "\n",
       "    .dataframe tbody tr th {\n",
       "        vertical-align: top;\n",
       "    }\n",
       "\n",
       "    .dataframe thead th {\n",
       "        text-align: right;\n",
       "    }\n",
       "</style>\n",
       "<table border=\"1\" class=\"dataframe\">\n",
       "  <thead>\n",
       "    <tr style=\"text-align: right;\">\n",
       "      <th></th>\n",
       "      <th>accuracy</th>\n",
       "      <th>error_rate</th>\n",
       "      <th>f_measure</th>\n",
       "      <th>precision</th>\n",
       "      <th>recall</th>\n",
       "      <th>sensitivity</th>\n",
       "      <th>specificity</th>\n",
       "    </tr>\n",
       "  </thead>\n",
       "  <tbody>\n",
       "    <tr>\n",
       "      <th>logistic_reg</th>\n",
       "      <td>0.844</td>\n",
       "      <td>0.156</td>\n",
       "      <td>0.645</td>\n",
       "      <td>0.7441</td>\n",
       "      <td>0.5692</td>\n",
       "      <td>0.5692</td>\n",
       "      <td>0.9351</td>\n",
       "    </tr>\n",
       "  </tbody>\n",
       "</table>\n",
       "</div>"
      ],
      "text/plain": [
       "              accuracy  error_rate  f_measure  precision  recall  sensitivity  \\\n",
       "logistic_reg     0.844       0.156      0.645     0.7441  0.5692       0.5692   \n",
       "\n",
       "              specificity  \n",
       "logistic_reg       0.9351  "
      ]
     },
     "metadata": {},
     "output_type": "display_data"
    },
    {
     "name": "stdout",
     "output_type": "stream",
     "text": [
      "10-fold CV accuracy: 0.843 +/- 0.003\n",
      "10-fold CV ROC AUC: 0.896 +/- 0.004\n",
      "Classifier Runtime: 0.11537933349609375s\n",
      "Evaluation Runtime: 1.7361547946929932s\n"
     ]
    }
   ],
   "source": [
    "t0=time.time()\n",
    "log_reg = LogisticRegression()\n",
    "log_fs = log_reg.fit(Train_data, Train_label)\n",
    "t1=time.time()\n",
    "t2 = time.time()\n",
    "log_reg_pred = log_fs.predict(Exam_data)\n",
    "\n",
    "logistic_reg = model_eval(Exam_label, log_reg_pred)\n",
    "print('Logistic Regression : %.2f percent.' % (round(logistic_reg['accuracy']*100,3)))\n",
    "\n",
    "#printmd('### 3.5.2. Model Evaulation ')\n",
    "ovl_logreg = round(pd.DataFrame([logistic_reg], index = ['logistic_reg']),4)\n",
    "display(ovl_logreg)\n",
    "\n",
    "lr_scores = cross_val_score(log_fs, Train_data, Train_label, cv=10)\n",
    "lr_scores1 = cross_val_score(log_fs, Train_data, Train_label, cv=10, scoring = 'roc_auc')\n",
    "\n",
    "t3 = time.time()\n",
    "#Precision, recall, fscore, support value\n",
    "print('10-fold CV accuracy: %.3f +/- %.3f' % (np.mean(lr_scores), \n",
    "                                              np.std(lr_scores)))\n",
    "print('10-fold CV ROC AUC: %.3f +/- %.3f' % (np.mean(lr_scores1), \n",
    "                                              np.std(lr_scores1)))\n",
    "print('Classifier Runtime: '+ str(t1-t0)+'s')\n",
    "print('Evaluation Runtime: '+ str(t3-t2)+'s')"
   ]
  },
  {
   "cell_type": "markdown",
   "metadata": {},
   "source": [
    "## 5.2 Decision Tree"
   ]
  },
  {
   "cell_type": "code",
   "execution_count": null,
   "metadata": {},
   "outputs": [],
   "source": [
    "# Cart(Gini)\n",
    "print('Cart (Gini)')\n",
    "t0=time.time()\n",
    "clf_gini = tree.DecisionTreeClassifier(criterion = 'gini', min_samples_split = 0.05, min_samples_leaf = 0.001, max_features = None)\n",
    "clf_gini = clf_gini.fit(Train_data, Train_label)\n",
    "t1=time.time()\n",
    "t2 =time.time()\n",
    "clf_gini_pred = clf_gini.predict(Exam_data)\n",
    "DTree_Gini = model_eval(Exam_label, clf_gini_pred)\n",
    "print('Desicion Tree using Gini Index : %.2f percent.' % (round(DTree_Gini['accuracy']*100,2)))\n",
    "\n",
    "lr_scores = cross_val_score(clf_gini, Train_data, Train_label, cv=10)\n",
    "lr_scores1 = cross_val_score(clf_gini, Train_data, Train_label, cv=10, scoring = 'roc_auc')\n",
    "\n",
    "t3 = time.time()\n",
    "#Precision, recall, fscore, support value\n",
    "print('10-fold CV accuracy: %.3f +/- %.3f' % (np.mean(lr_scores), \n",
    "                                              np.std(lr_scores)))\n",
    "print('10-fold CV ROC AUC: %.3f +/- %.3f' % (np.mean(lr_scores1), \n",
    "                                              np.std(lr_scores1)))\n",
    "print('Classifier Runtime: '+ str(t1-t0)+'s')\n",
    "print('Evaluation Runtime: '+ str(t3-t2)+'s')\n",
    "\n",
    "\n",
    "\n",
    "# Entropy\n",
    "print('\\n')\n",
    "print('ID3 (Entropy)')\n",
    "t0=time.time()\n",
    "clf_entropy = tree.DecisionTreeClassifier(criterion = 'entropy', min_samples_split = 0.05, min_samples_leaf = 0.001)\n",
    "clf_entropy = clf_entropy.fit(Train_data, Train_label)\n",
    "t1=time.time()\n",
    "t2=time.time()\n",
    "clf_entropy_pred = clf_entropy.predict(Exam_data)\n",
    "DTree_Entropy = model_eval(Exam_label, clf_entropy_pred)\n",
    "print('Desicion Tree using Entropy : %.2f percent.' % (round(DTree_Entropy['accuracy']*100,2)))\n",
    "\n",
    "lr_scores = cross_val_score(clf_entropy, Train_data, Train_label, cv=10)\n",
    "lr_scores1 = cross_val_score(clf_entropy, Train_data, Train_label, cv=10, scoring = 'roc_auc')\n",
    "\n",
    "t3 = time.time()\n",
    "#Precision, recall, fscore, support value\n",
    "print('10-fold CV accuracy: %.3f +/- %.3f' % (np.mean(lr_scores), \n",
    "                                              np.std(lr_scores)))\n",
    "print('10-fold CV ROC AUC: %.3f +/- %.3f' % (np.mean(lr_scores1), \n",
    "                                              np.std(lr_scores1)))\n",
    "print('Classifier Runtime: '+ str(t1-t0)+'s')\n",
    "print('Evaluation Runtime: '+ str(t3-t2)+'s')\n",
    "\n",
    "print('\\n')\n",
    "print('Comparison')\n",
    "ovl_dtree = round(pd.DataFrame([DTree_Entropy, DTree_Gini], index = ['DTree_Entropy','DTree_Gini']),4)\n",
    "display(ovl_dtree)"
   ]
  },
  {
   "cell_type": "markdown",
   "metadata": {},
   "source": [
    "## 5.3 SVM"
   ]
  },
  {
   "cell_type": "code",
   "execution_count": 64,
   "metadata": {},
   "outputs": [
    {
     "name": "stdout",
     "output_type": "stream",
     "text": [
      "Predicted     0    1\n",
      "Actual              \n",
      "0          4251  280\n",
      "1           681  821\n",
      "SVM using linear kernel : 84.07 percent.\n",
      "runtime: 12.150474071502686s\n",
      "10-fold CV accuracy: 0.837 +/- 0.006\n",
      "10-fold CV ROC AUC: 0.887 +/- 0.005\n",
      "Evaluation Runtime: 198.87296175956726s\n"
     ]
    }
   ],
   "source": [
    "# Linear kernel\n",
    "t0=time.time()\n",
    "svm_clf_linear = svm.SVC(kernel = 'linear')\n",
    "svm_clf_linear.fit(Train_data, Train_label)\n",
    "svm_clf_linear_pred = svm_clf_linear.predict(Exam_data)\n",
    "SVM_linear = model_eval(Exam_label, svm_clf_linear_pred)\n",
    "print('SVM using linear kernel : %.2f percent.' % (round(SVM_linear['accuracy']*100,2)))\n",
    "t1 = time.time() #End time\n",
    "print('runtime: '+ str((t1-t0))+'s')\n",
    "\n",
    "lr_scores = cross_val_score(svm_clf_linear, Train_data, Train_label, cv=10)\n",
    "lr_scores1 = cross_val_score(svm_clf_linear, Train_data, Train_label, cv=10, scoring = 'roc_auc')\n",
    "\n",
    "t2 = time.time()\n",
    "#Precision, recall, fscore, support value\n",
    "print('10-fold CV accuracy: %.3f +/- %.3f' % (np.mean(lr_scores), \n",
    "                                              np.std(lr_scores)))\n",
    "print('10-fold CV ROC AUC: %.3f +/- %.3f' % (np.mean(lr_scores1), \n",
    "                                              np.std(lr_scores1)))\n",
    "\n",
    "print('Evaluation Runtime: '+ str(t2-t1)+'s')"
   ]
  },
  {
   "cell_type": "code",
   "execution_count": 65,
   "metadata": {},
   "outputs": [
    {
     "name": "stdout",
     "output_type": "stream",
     "text": [
      "Predicted     0    1\n",
      "Actual              \n",
      "0          4324  207\n",
      "1           744  758\n",
      "SVM using poly kernel : 84.24 percent.\n",
      "runtime: 8.947975873947144s\n",
      "10-fold CV accuracy: 0.842 +/- 0.003\n",
      "10-fold CV ROC AUC: 0.891 +/- 0.005\n",
      "Evaluation Runtime: 132.25516605377197s\n"
     ]
    }
   ],
   "source": [
    "\n",
    "# Poly kernal\n",
    "t0 = time.time() #End time\n",
    "\n",
    "svm_clf_poly = svm.SVC(kernel = 'poly')\n",
    "svm_clf_poly.fit(Train_data, Train_label)\n",
    "svm_clf_poly_pred = svm_clf_poly.predict(Exam_data)\n",
    "SVM_poly = model_eval(Exam_label, svm_clf_poly_pred)\n",
    "print('SVM using poly kernel : %.2f percent.' % (round(SVM_poly['accuracy']*100,2)))\n",
    "t1 = time.time() #End time\n",
    "print('runtime: '+ str((t1-t0))+'s')\n",
    "\n",
    "lr_scores = cross_val_score(svm_clf_poly, Train_data, Train_label, cv=10)\n",
    "lr_scores1 = cross_val_score(svm_clf_poly, Train_data, Train_label, cv=10, scoring = 'roc_auc')\n",
    "\n",
    "t2 = time.time()\n",
    "#Precision, recall, fscore, support value\n",
    "print('10-fold CV accuracy: %.3f +/- %.3f' % (np.mean(lr_scores), \n",
    "                                              np.std(lr_scores)))\n",
    "print('10-fold CV ROC AUC: %.3f +/- %.3f' % (np.mean(lr_scores1), \n",
    "                                              np.std(lr_scores1)))\n",
    "\n",
    "print('Evaluation Runtime: '+ str(t2-t1)+'s')"
   ]
  },
  {
   "cell_type": "code",
   "execution_count": 66,
   "metadata": {},
   "outputs": [
    {
     "name": "stdout",
     "output_type": "stream",
     "text": [
      "Predicted     0    1\n",
      "Actual              \n",
      "0          4296  235\n",
      "1           700  802\n",
      "SVM using rbf kernel : 84.50 percent.\n",
      "runtime: 14.98170804977417s\n",
      "10-fold CV accuracy: 0.845 +/- 0.004\n",
      "10-fold CV ROC AUC: 0.893 +/- 0.005\n",
      "Evaluation Runtime: 176.23368787765503s\n"
     ]
    }
   ],
   "source": [
    "# rbf\n",
    "t0=time.time()\n",
    "svm_clf_rbf = svm.SVC(kernel = 'rbf', C = 1, tol = 1e-3)\n",
    "svm_clf_rbf.fit(Train_data, Train_label)\n",
    "svm_clf_rbf_pred = svm_clf_rbf.predict(Exam_data)\n",
    "SVM_rbf = model_eval(Exam_label, svm_clf_rbf_pred)\n",
    "print('SVM using rbf kernel : %.2f percent.' % (round(SVM_rbf['accuracy']*100,2)))\n",
    "t1 = time.time() #End time\n",
    "print('runtime: '+ str((t1-t0))+'s')\n",
    "\n",
    "lr_scores = cross_val_score(svm_clf_rbf, Train_data, Train_label, cv=10)\n",
    "lr_scores1 = cross_val_score(svm_clf_rbf, Train_data, Train_label, cv=10, scoring = 'roc_auc')\n",
    "\n",
    "t3 = time.time()\n",
    "#Precision, recall, fscore, support value\n",
    "print('10-fold CV accuracy: %.3f +/- %.3f' % (np.mean(lr_scores), \n",
    "                                              np.std(lr_scores)))\n",
    "print('10-fold CV ROC AUC: %.3f +/- %.3f' % (np.mean(lr_scores1), \n",
    "                                              np.std(lr_scores1)))\n",
    "\n",
    "print('Evaluation Runtime: '+ str(t3-t1)+'s')\n"
   ]
  },
  {
   "cell_type": "code",
   "execution_count": 80,
   "metadata": {},
   "outputs": [
    {
     "name": "stdout",
     "output_type": "stream",
     "text": [
      "Predicted     0    1\n",
      "Actual              \n",
      "0          4296  235\n",
      "1           700  802\n",
      "SVM using rbf kernel : 84.50 percent.\n",
      "runtime: 11.46447205543518s\n",
      "10-fold CV accuracy: 0.845 +/- 0.004\n",
      "10-fold CV ROC AUC: 0.893 +/- 0.005\n",
      "Evaluation Runtime: 243.90102100372314s\n",
      "             precision    recall  f1-score   support\n",
      "\n",
      "          0       0.86      0.95      0.90      4531\n",
      "          1       0.77      0.53      0.63      1502\n",
      "\n",
      "avg / total       0.84      0.85      0.83      6033\n",
      "\n"
     ]
    }
   ],
   "source": [
    "from sklearn.metrics import classification_report\n",
    "t0=time.time()\n",
    "svm_clf_rbf = svm.SVC(kernel = 'rbf', C = 1, tol = 1e-3)\n",
    "svm_clf_rbf.fit(Train_data, Train_label)\n",
    "svm_clf_rbf_pred = svm_clf_rbf.predict(Exam_data)\n",
    "SVM_rbf = model_eval(Exam_label, svm_clf_rbf_pred)\n",
    "print('SVM using rbf kernel : %.2f percent.' % (round(SVM_rbf['accuracy']*100,2)))\n",
    "t1 = time.time() #End time\n",
    "print('runtime: '+ str((t1-t0))+'s')\n",
    "\n",
    "lr_scores = cross_val_score(svm_clf_rbf, Train_data, Train_label, cv=10)\n",
    "lr_scores1 = cross_val_score(svm_clf_rbf, Train_data, Train_label, cv=10, scoring = 'roc_auc')\n",
    "\n",
    "t3 = time.time()\n",
    "#Precision, recall, fscore, support value\n",
    "print('10-fold CV accuracy: %.3f +/- %.3f' % (np.mean(lr_scores), \n",
    "                                              np.std(lr_scores)))\n",
    "print('10-fold CV ROC AUC: %.3f +/- %.3f' % (np.mean(lr_scores1), \n",
    "                                              np.std(lr_scores1)))\n",
    "\n",
    "print('Evaluation Runtime: '+ str(t3-t1)+'s')\n",
    "print(classification_report(Exam_label, svm_clf_rbf_pred))"
   ]
  },
  {
   "cell_type": "code",
   "execution_count": 67,
   "metadata": {},
   "outputs": [
    {
     "name": "stdout",
     "output_type": "stream",
     "text": [
      "Predicted     0    1\n",
      "Actual              \n",
      "0          3844  687\n",
      "1           717  785\n",
      "SVM using sigmoid kernel : 76.73 percent.\n",
      "runtime: 15.668283939361572s\n",
      "10-fold CV accuracy: 0.770 +/- 0.009\n",
      "10-fold CV ROC AUC: 0.791 +/- 0.011\n",
      "Evaluation Runtime: 220.83599424362183s\n"
     ]
    }
   ],
   "source": [
    "#sigmoid\n",
    "t0 = time.time()\n",
    "svm_clf_sigmoid = svm.SVC(kernel = 'sigmoid')\n",
    "svm_clf_sigmoid.fit(Train_data, Train_label)\n",
    "svm_clf_sigmoid_pred = svm_clf_sigmoid.predict(Exam_data)\n",
    "SVM_sigmoid = model_eval(Exam_label, svm_clf_sigmoid_pred)\n",
    "print('SVM using sigmoid kernel : %.2f percent.' % (round(SVM_sigmoid['accuracy']*100,2)))\n",
    "t1 = time.time() #End time\n",
    "print('runtime: '+ str((t1-t0))+'s')\n",
    "\n",
    "lr_scores = cross_val_score(svm_clf_sigmoid, Train_data, Train_label, cv=10)\n",
    "lr_scores1 = cross_val_score(svm_clf_sigmoid, Train_data, Train_label, cv=10, scoring = 'roc_auc')\n",
    "\n",
    "t2 = time.time()\n",
    "#Precision, recall, fscore, support value\n",
    "print('10-fold CV accuracy: %.3f +/- %.3f' % (np.mean(lr_scores), \n",
    "                                              np.std(lr_scores)))\n",
    "print('10-fold CV ROC AUC: %.3f +/- %.3f' % (np.mean(lr_scores1), \n",
    "                                              np.std(lr_scores1)))\n",
    "\n",
    "print('Evaluation Runtime: '+ str(t2-t1)+'s')\n"
   ]
  },
  {
   "cell_type": "code",
   "execution_count": 68,
   "metadata": {},
   "outputs": [
    {
     "data": {
      "text/html": [
       "<div>\n",
       "<style scoped>\n",
       "    .dataframe tbody tr th:only-of-type {\n",
       "        vertical-align: middle;\n",
       "    }\n",
       "\n",
       "    .dataframe tbody tr th {\n",
       "        vertical-align: top;\n",
       "    }\n",
       "\n",
       "    .dataframe thead th {\n",
       "        text-align: right;\n",
       "    }\n",
       "</style>\n",
       "<table border=\"1\" class=\"dataframe\">\n",
       "  <thead>\n",
       "    <tr style=\"text-align: right;\">\n",
       "      <th></th>\n",
       "      <th>accuracy</th>\n",
       "      <th>error_rate</th>\n",
       "      <th>f_measure</th>\n",
       "      <th>precision</th>\n",
       "      <th>recall</th>\n",
       "      <th>sensitivity</th>\n",
       "      <th>specificity</th>\n",
       "    </tr>\n",
       "  </thead>\n",
       "  <tbody>\n",
       "    <tr>\n",
       "      <th>SVM_linear</th>\n",
       "      <td>0.8407</td>\n",
       "      <td>0.1593</td>\n",
       "      <td>0.6308</td>\n",
       "      <td>0.7457</td>\n",
       "      <td>0.5466</td>\n",
       "      <td>0.5466</td>\n",
       "      <td>0.9382</td>\n",
       "    </tr>\n",
       "    <tr>\n",
       "      <th>SVM_poly</th>\n",
       "      <td>0.8424</td>\n",
       "      <td>0.1576</td>\n",
       "      <td>0.6145</td>\n",
       "      <td>0.7855</td>\n",
       "      <td>0.5047</td>\n",
       "      <td>0.5047</td>\n",
       "      <td>0.9543</td>\n",
       "    </tr>\n",
       "    <tr>\n",
       "      <th>SVM_rbf</th>\n",
       "      <td>0.8450</td>\n",
       "      <td>0.1550</td>\n",
       "      <td>0.6317</td>\n",
       "      <td>0.7734</td>\n",
       "      <td>0.5340</td>\n",
       "      <td>0.5340</td>\n",
       "      <td>0.9481</td>\n",
       "    </tr>\n",
       "    <tr>\n",
       "      <th>SVM_sigmoid</th>\n",
       "      <td>0.7673</td>\n",
       "      <td>0.2327</td>\n",
       "      <td>0.5279</td>\n",
       "      <td>0.5333</td>\n",
       "      <td>0.5226</td>\n",
       "      <td>0.5226</td>\n",
       "      <td>0.8484</td>\n",
       "    </tr>\n",
       "  </tbody>\n",
       "</table>\n",
       "</div>"
      ],
      "text/plain": [
       "             accuracy  error_rate  f_measure  precision  recall  sensitivity  \\\n",
       "SVM_linear     0.8407      0.1593     0.6308     0.7457  0.5466       0.5466   \n",
       "SVM_poly       0.8424      0.1576     0.6145     0.7855  0.5047       0.5047   \n",
       "SVM_rbf        0.8450      0.1550     0.6317     0.7734  0.5340       0.5340   \n",
       "SVM_sigmoid    0.7673      0.2327     0.5279     0.5333  0.5226       0.5226   \n",
       "\n",
       "             specificity  \n",
       "SVM_linear        0.9382  \n",
       "SVM_poly          0.9543  \n",
       "SVM_rbf           0.9481  \n",
       "SVM_sigmoid       0.8484  "
      ]
     },
     "metadata": {},
     "output_type": "display_data"
    }
   ],
   "source": [
    "#printmd('### 3.3.2. Model Evaulation ')\n",
    "ovl_svm = round(pd.DataFrame([SVM_linear, SVM_poly, SVM_rbf, SVM_sigmoid], index = ['SVM_linear', 'SVM_poly', 'SVM_rbf', 'SVM_sigmoid']),4)\n",
    "display(ovl_svm)"
   ]
  },
  {
   "cell_type": "code",
   "execution_count": 69,
   "metadata": {},
   "outputs": [
    {
     "name": "stdout",
     "output_type": "stream",
     "text": [
      "Predicted      0     1\n",
      "Actual                \n",
      "0          10712   648\n",
      "1           1723  1977\n",
      "SVM using rbf kernel : 84.26 percent.\n",
      "runtime: 25.219882011413574s\n"
     ]
    },
    {
     "data": {
      "text/html": [
       "<div>\n",
       "<style scoped>\n",
       "    .dataframe tbody tr th:only-of-type {\n",
       "        vertical-align: middle;\n",
       "    }\n",
       "\n",
       "    .dataframe tbody tr th {\n",
       "        vertical-align: top;\n",
       "    }\n",
       "\n",
       "    .dataframe thead th {\n",
       "        text-align: right;\n",
       "    }\n",
       "</style>\n",
       "<table border=\"1\" class=\"dataframe\">\n",
       "  <thead>\n",
       "    <tr style=\"text-align: right;\">\n",
       "      <th></th>\n",
       "      <th>accuracy</th>\n",
       "      <th>error_rate</th>\n",
       "      <th>f_measure</th>\n",
       "      <th>precision</th>\n",
       "      <th>recall</th>\n",
       "      <th>sensitivity</th>\n",
       "      <th>specificity</th>\n",
       "    </tr>\n",
       "  </thead>\n",
       "  <tbody>\n",
       "    <tr>\n",
       "      <th>SVM_rbf</th>\n",
       "      <td>0.8426</td>\n",
       "      <td>0.1574</td>\n",
       "      <td>0.6251</td>\n",
       "      <td>0.7531</td>\n",
       "      <td>0.5343</td>\n",
       "      <td>0.5343</td>\n",
       "      <td>0.943</td>\n",
       "    </tr>\n",
       "  </tbody>\n",
       "</table>\n",
       "</div>"
      ],
      "text/plain": [
       "         accuracy  error_rate  f_measure  precision  recall  sensitivity  \\\n",
       "SVM_rbf    0.8426      0.1574     0.6251     0.7531  0.5343       0.5343   \n",
       "\n",
       "         specificity  \n",
       "SVM_rbf        0.943  "
      ]
     },
     "metadata": {},
     "output_type": "display_data"
    }
   ],
   "source": [
    "t0 = time.time() # Start time\n",
    "svm_clf_rbf = svm.SVC(kernel = 'rbf', C = 1, tol = 1e-3)\n",
    "svm_clf_rbf.fit(Train_data, Train_label)\n",
    "svm_clf_rbf_pred = svm_clf_rbf.predict(Test_data)\n",
    "SVM_rbf = model_eval(Test_label, svm_clf_rbf_pred)\n",
    "pred_svm_test = svm_clf_rbf.predict(Test_data)\n",
    "print('SVM using rbf kernel : %.2f percent.' % (round(SVM_rbf['accuracy']*100,2)))\n",
    "t1 = time.time() #End time\n",
    "print('runtime: '+ str((t1-t0))+'s')\n",
    "\n",
    "ovl_svm = round(pd.DataFrame([SVM_rbf], index = [ 'SVM_rbf']),4)\n",
    "display(ovl_svm)"
   ]
  },
  {
   "cell_type": "code",
   "execution_count": null,
   "metadata": {},
   "outputs": [],
   "source": []
  },
  {
   "cell_type": "code",
   "execution_count": null,
   "metadata": {},
   "outputs": [],
   "source": []
  }
 ],
 "metadata": {
  "kernelspec": {
   "display_name": "Python 3",
   "language": "python",
   "name": "python3"
  },
  "language_info": {
   "codemirror_mode": {
    "name": "ipython",
    "version": 3
   },
   "file_extension": ".py",
   "mimetype": "text/x-python",
   "name": "python",
   "nbconvert_exporter": "python",
   "pygments_lexer": "ipython3",
   "version": "3.6.5"
  }
 },
 "nbformat": 4,
 "nbformat_minor": 2
}
